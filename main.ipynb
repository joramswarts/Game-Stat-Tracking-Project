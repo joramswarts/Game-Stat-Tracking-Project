{
 "cells": [
  {
   "cell_type": "code",
   "execution_count": 1,
   "metadata": {},
   "outputs": [
    {
     "name": "stdout",
     "output_type": "stream",
     "text": [
      "Summoner name: Kiirbb\n",
      "Summoner Level: 265\n",
      "Below is the data analyses for kiirbb in ranked_solo_duo:\n"
     ]
    }
   ],
   "source": [
    "from lol_data import get_summoner_lol_data, get_match_ids, get_match_data, calculate_win_percentage_per_role\n",
    "from lol_visuals import visualize_win_percentages, plot_win_percentage_over_time, visualize_champion_stats, create_table_visual\n",
    "from config import API_KEY\n",
    "\n",
    "summoner_name = input(\"Enter Summoner Name: \")\n",
    "region = input(\"Enter Region (e.g., na1, euw1): \")\n",
    "queue_type = input(\"Enter Queue Type (e.g., ranked_solo_duo): \")\n",
    "\n",
    "# ... (bestaande code blijft hetzelfde)\n",
    "summoner_data = get_summoner_lol_data(API_KEY, summoner_name, region)\n",
    "match_ids = get_match_ids(API_KEY, summoner_data['puuid'], region, queue_type, count=50)\n",
    "if summoner_data:\n",
    "    print(f\"Summoner name: {summoner_data['name']}\")\n",
    "    print(f\"Summoner Level: {summoner_data['summonerLevel']}\")\n",
    "    print(f\"Below is the data analyses for {summoner_name} in {queue_type}:\")\n",
    "    match_ids = get_match_ids(API_KEY, summoner_data['puuid'], region, queue_type)\n",
    "    if match_ids:\n",
    "        matches = []\n",
    "        for match_id in match_ids:\n",
    "            match_data = get_match_data(API_KEY, match_id, region)\n",
    "            if match_data:\n",
    "                matches.append(match_data)\n",
    "            else:\n",
    "                print(f\"Error fetching match data for match ID {match_id}\")\n"
   ]
  },
  {
   "cell_type": "code",
   "execution_count": 2,
   "metadata": {},
   "outputs": [
    {
     "name": "stdout",
     "output_type": "stream",
     "text": [
      "Champion Name: Akali, Champion ID: 84\n",
      "Champion Name: Nocturne, Champion ID: 56\n",
      "Champion Name: Xerath, Champion ID: 101\n",
      "Champion Name: Jhin, Champion ID: 202\n",
      "Champion Name: Lux, Champion ID: 99\n",
      "Champion Name: Malphite, Champion ID: 54\n",
      "Champion Name: Gragas, Champion ID: 79\n",
      "Champion Name: Sylas, Champion ID: 517\n",
      "Champion Name: Draven, Champion ID: 119\n",
      "Champion Name: Bard, Champion ID: 432\n",
      "Champion Name: Nasus, Champion ID: 75\n",
      "Champion Name: Kayn, Champion ID: 141\n",
      "Champion Name: Leblanc, Champion ID: 7\n",
      "Champion Name: Ezreal, Champion ID: 81\n",
      "Champion Name: Karma, Champion ID: 43\n",
      "Champion Name: Darius, Champion ID: 122\n",
      "Champion Name: Rammus, Champion ID: 33\n",
      "Champion Name: Kassadin, Champion ID: 38\n",
      "Champion Name: Jhin, Champion ID: 202\n",
      "Champion Name: Rakan, Champion ID: 497\n",
      "Champion Name: Yasuo, Champion ID: 157\n",
      "Champion Name: Briar, Champion ID: 233\n",
      "Champion Name: Irelia, Champion ID: 39\n",
      "Champion Name: MissFortune, Champion ID: 21\n",
      "Champion Name: Rell, Champion ID: 526\n",
      "Champion Name: Tryndamere, Champion ID: 23\n",
      "Champion Name: Nocturne, Champion ID: 56\n",
      "Champion Name: Xerath, Champion ID: 101\n",
      "Champion Name: Jinx, Champion ID: 222\n",
      "Champion Name: Janna, Champion ID: 40\n",
      "Champion Name: Teemo, Champion ID: 17\n",
      "Champion Name: Rammus, Champion ID: 33\n",
      "Champion Name: Xerath, Champion ID: 101\n",
      "Champion Name: Vayne, Champion ID: 67\n",
      "Champion Name: Pyke, Champion ID: 555\n",
      "Champion Name: Morgana, Champion ID: 25\n",
      "Champion Name: Kayn, Champion ID: 141\n",
      "Champion Name: Viktor, Champion ID: 112\n",
      "Champion Name: Aphelios, Champion ID: 523\n",
      "Champion Name: Zyra, Champion ID: 143\n",
      "Champion Name: Teemo, Champion ID: 17\n",
      "Champion Name: Evelynn, Champion ID: 28\n",
      "Champion Name: Zed, Champion ID: 238\n",
      "Champion Name: Tristana, Champion ID: 18\n",
      "Champion Name: Leona, Champion ID: 89\n",
      "Champion Name: Trundle, Champion ID: 48\n",
      "Champion Name: MasterYi, Champion ID: 11\n",
      "Champion Name: Xerath, Champion ID: 101\n",
      "Champion Name: MissFortune, Champion ID: 21\n",
      "Champion Name: Yuumi, Champion ID: 350\n",
      "Champion Name: Olaf, Champion ID: 2\n",
      "Champion Name: Kayn, Champion ID: 141\n",
      "Champion Name: Yasuo, Champion ID: 157\n",
      "Champion Name: Caitlyn, Champion ID: 51\n",
      "Champion Name: MissFortune, Champion ID: 21\n",
      "Champion Name: Illaoi, Champion ID: 420\n",
      "Champion Name: Ivern, Champion ID: 427\n",
      "Champion Name: Xerath, Champion ID: 101\n",
      "Champion Name: Ashe, Champion ID: 22\n",
      "Champion Name: Seraphine, Champion ID: 147\n",
      "Champion Name: Quinn, Champion ID: 133\n",
      "Champion Name: Rammus, Champion ID: 33\n",
      "Champion Name: Xerath, Champion ID: 101\n",
      "Champion Name: Vayne, Champion ID: 67\n",
      "Champion Name: Rell, Champion ID: 526\n",
      "Champion Name: Aatrox, Champion ID: 266\n",
      "Champion Name: Karthus, Champion ID: 30\n",
      "Champion Name: Syndra, Champion ID: 134\n",
      "Champion Name: Twitch, Champion ID: 29\n",
      "Champion Name: Zyra, Champion ID: 143\n",
      "Champion Name: Jax, Champion ID: 24\n",
      "Champion Name: Rammus, Champion ID: 33\n",
      "Champion Name: Xerath, Champion ID: 101\n",
      "Champion Name: Ashe, Champion ID: 22\n",
      "Champion Name: Pantheon, Champion ID: 80\n",
      "Champion Name: DrMundo, Champion ID: 36\n",
      "Champion Name: Nocturne, Champion ID: 56\n",
      "Champion Name: Malzahar, Champion ID: 90\n",
      "Champion Name: Sivir, Champion ID: 15\n",
      "Champion Name: Nami, Champion ID: 267\n",
      "Champion Name: Teemo, Champion ID: 17\n",
      "Champion Name: Ivern, Champion ID: 427\n",
      "Champion Name: Xerath, Champion ID: 101\n",
      "Champion Name: Jinx, Champion ID: 222\n",
      "Champion Name: Milio, Champion ID: 902\n",
      "Champion Name: Trundle, Champion ID: 48\n",
      "Champion Name: Brand, Champion ID: 63\n",
      "Champion Name: Syndra, Champion ID: 134\n",
      "Champion Name: MissFortune, Champion ID: 21\n",
      "Champion Name: Neeko, Champion ID: 518\n",
      "Champion Name: Sion, Champion ID: 14\n",
      "Champion Name: Yorick, Champion ID: 83\n",
      "Champion Name: Lux, Champion ID: 99\n",
      "Champion Name: KogMaw, Champion ID: 96\n",
      "Champion Name: Rell, Champion ID: 526\n",
      "Champion Name: Garen, Champion ID: 86\n",
      "Champion Name: Ivern, Champion ID: 427\n",
      "Champion Name: Xerath, Champion ID: 101\n",
      "Champion Name: Caitlyn, Champion ID: 51\n",
      "Champion Name: Karma, Champion ID: 43\n",
      "Champion Name: Kayle, Champion ID: 10\n",
      "Champion Name: Rammus, Champion ID: 33\n",
      "Champion Name: Xerath, Champion ID: 101\n",
      "Champion Name: Lucian, Champion ID: 236\n",
      "Champion Name: Rakan, Champion ID: 497\n",
      "Champion Name: Darius, Champion ID: 122\n",
      "Champion Name: Brand, Champion ID: 63\n",
      "Champion Name: Orianna, Champion ID: 61\n",
      "Champion Name: Kaisa, Champion ID: 145\n",
      "Champion Name: Ashe, Champion ID: 22\n",
      "Champion Name: Sion, Champion ID: 14\n",
      "Champion Name: Briar, Champion ID: 233\n",
      "Champion Name: Brand, Champion ID: 63\n",
      "Champion Name: Xayah, Champion ID: 498\n",
      "Champion Name: Amumu, Champion ID: 32\n",
      "Champion Name: Aatrox, Champion ID: 266\n",
      "Champion Name: Rammus, Champion ID: 33\n",
      "Champion Name: Xerath, Champion ID: 101\n",
      "Champion Name: Twitch, Champion ID: 29\n",
      "Champion Name: Rakan, Champion ID: 497\n",
      "Champion Name: Sett, Champion ID: 875\n",
      "Champion Name: Ivern, Champion ID: 427\n",
      "Champion Name: Xerath, Champion ID: 101\n",
      "Champion Name: Ashe, Champion ID: 22\n",
      "Champion Name: Leona, Champion ID: 89\n",
      "Champion Name: Gangplank, Champion ID: 41\n",
      "Champion Name: JarvanIV, Champion ID: 59\n",
      "Champion Name: Sylas, Champion ID: 517\n",
      "Champion Name: Twitch, Champion ID: 29\n",
      "Champion Name: Milio, Champion ID: 902\n",
      "Champion Name: Riven, Champion ID: 92\n",
      "Champion Name: Ivern, Champion ID: 427\n",
      "Champion Name: Xerath, Champion ID: 101\n",
      "Champion Name: Vayne, Champion ID: 67\n",
      "Champion Name: Nautilus, Champion ID: 111\n",
      "Champion Name: Kayle, Champion ID: 10\n",
      "Champion Name: Nocturne, Champion ID: 56\n",
      "Champion Name: Yone, Champion ID: 777\n",
      "Champion Name: Jinx, Champion ID: 222\n",
      "Champion Name: Soraka, Champion ID: 16\n",
      "Champion Name: Rumble, Champion ID: 68\n",
      "Champion Name: MasterYi, Champion ID: 11\n",
      "Champion Name: Talon, Champion ID: 91\n",
      "Champion Name: Caitlyn, Champion ID: 51\n",
      "Champion Name: Janna, Champion ID: 40\n",
      "Champion Name: Vi, Champion ID: 254\n",
      "Champion Name: Rammus, Champion ID: 33\n",
      "Champion Name: Kassadin, Champion ID: 38\n",
      "Champion Name: Ezreal, Champion ID: 81\n",
      "Champion Name: Velkoz, Champion ID: 161\n",
      "Champion Name: Yone, Champion ID: 777\n",
      "Champion Name: Rammus, Champion ID: 33\n",
      "Champion Name: Xerath, Champion ID: 101\n",
      "Champion Name: Urgot, Champion ID: 6\n",
      "Champion Name: Zyra, Champion ID: 143\n",
      "Champion Name: Gangplank, Champion ID: 41\n",
      "Champion Name: Diana, Champion ID: 131\n",
      "Champion Name: Orianna, Champion ID: 61\n",
      "Champion Name: Ezreal, Champion ID: 81\n",
      "Champion Name: Milio, Champion ID: 902\n",
      "Champion Name: Hwei, Champion ID: 910\n",
      "Champion Name: Graves, Champion ID: 104\n",
      "Champion Name: Katarina, Champion ID: 55\n",
      "Champion Name: Ashe, Champion ID: 22\n",
      "Champion Name: Brand, Champion ID: 63\n",
      "Champion Name: Urgot, Champion ID: 6\n",
      "Champion Name: Ivern, Champion ID: 427\n",
      "Champion Name: Xerath, Champion ID: 101\n",
      "Champion Name: Jhin, Champion ID: 202\n",
      "Champion Name: Senna, Champion ID: 235\n",
      "Champion Name: Darius, Champion ID: 122\n",
      "Champion Name: Ivern, Champion ID: 427\n",
      "Champion Name: Xerath, Champion ID: 101\n",
      "Champion Name: Caitlyn, Champion ID: 51\n",
      "Champion Name: Pantheon, Champion ID: 80\n",
      "Champion Name: Yorick, Champion ID: 83\n",
      "Champion Name: Nasus, Champion ID: 75\n",
      "Champion Name: Veigar, Champion ID: 45\n",
      "Champion Name: Sivir, Champion ID: 15\n",
      "Champion Name: Janna, Champion ID: 40\n",
      "Champion Name: Tryndamere, Champion ID: 23\n",
      "Champion Name: Amumu, Champion ID: 32\n",
      "Champion Name: Orianna, Champion ID: 61\n",
      "Champion Name: MissFortune, Champion ID: 21\n",
      "Champion Name: Lux, Champion ID: 99\n",
      "Champion Name: Garen, Champion ID: 86\n",
      "Champion Name: Rammus, Champion ID: 33\n",
      "Champion Name: Xerath, Champion ID: 101\n",
      "Champion Name: Ezreal, Champion ID: 81\n",
      "Champion Name: Seraphine, Champion ID: 147\n",
      "Champion Name: Yone, Champion ID: 777\n",
      "Champion Name: Rell, Champion ID: 526\n",
      "Champion Name: Orianna, Champion ID: 61\n",
      "Champion Name: Kaisa, Champion ID: 145\n",
      "Champion Name: Lulu, Champion ID: 117\n",
      "Champion Name: Yasuo, Champion ID: 157\n",
      "Champion Name: Ivern, Champion ID: 427\n",
      "Champion Name: Xerath, Champion ID: 101\n",
      "Champion Name: Jhin, Champion ID: 202\n",
      "Champion Name: Nautilus, Champion ID: 111\n",
      "Overall Win Percentage: 55.00% (Total Matches: 20)\n",
      "Win Percentage for Top role: 0.00% (Total Matches: 0)\n",
      "Win Percentage for Jungle role: 52.63% (Total Matches: 19)\n",
      "Win Percentage for Middle role: 100.00% (Total Matches: 1)\n",
      "Win Percentage for Bottom role: 0.00% (Total Matches: 0)\n",
      "Win Percentage for Utility role: 0.00% (Total Matches: 0)\n"
     ]
    },
    {
     "data": {
      "image/png": "[encoded data removed]",
      "text/plain": [
       "<Figure size 800x700 with 1 Axes>"
      ]
     },
     "metadata": {},
     "output_type": "display_data"
    }
   ],
   "source": [
    "win_percentages = calculate_win_percentage_per_role(matches, summoner_data['puuid'])\n",
    "visualize_win_percentages(win_percentages)\n"
   ]
  },
  {
   "cell_type": "code",
   "execution_count": 3,
   "metadata": {},
   "outputs": [
    {
     "name": "stdout",
     "output_type": "stream",
     "text": [
      "Total games in the last two weeks for this queue type: 18\n"
     ]
    },
    {
     "data": {
      "image/png": "[encoded data removed]",
      "text/plain": [
       "<Figure size 640x480 with 1 Axes>"
      ]
     },
     "metadata": {},
     "output_type": "display_data"
    }
   ],
   "source": [
    "plot_win_percentage_over_time(matches, summoner_data)\n"
   ]
  },
  {
   "cell_type": "code",
   "execution_count": 4,
   "metadata": {},
   "outputs": [
    {
     "data": {
      "image/png": "[encoded data removed]",
      "text/plain": [
       "<Figure size 1200x700 with 1 Axes>"
      ]
     },
     "metadata": {},
     "output_type": "display_data"
    }
   ],
   "source": [
    "visualize_champion_stats(matches, summoner_data)\n"
   ]
  },
  {
   "cell_type": "code",
   "execution_count": 5,
   "metadata": {},
   "outputs": [
    {
     "data": {
      "application/vnd.plotly.v1+json": {
       "config": {
        "plotlyServerURL": "https://plot.ly"
       },
       "data": [
        {
         "cells": {
          "align": "left",
          "fill": {
           "color": "#232448"
          },
          "font": {
           "color": "#56C596"
          },
          "values": [
           [
            "Ivern",
            "Ivern",
            "Ivern",
            "Ivern",
            "Ivern",
            "Ivern",
            "Ivern",
            "Ivern",
            "Nocturne",
            "Nocturne",
            "Rammus",
            "Rammus",
            "Rammus",
            "Rammus",
            "Rammus",
            "Rammus",
            "Rammus",
            "Rammus",
            "Rammus",
            "Xerath"
           ],
           [
            "1. Shurelya's Battlesong<br>2. Zhonya's Hourglass<br>3. Mejai's Soulstealer<br>4. Unknown Item 0",
            "1. Shurelya's Battlesong<br>2. Ionian Boots of Lucidity<br>3. Imperial Mandate<br>4. Dark Seal",
            "1. Shurelya's Battlesong<br>2. Zhonya's Hourglass<br>3. Unknown Item 0<br>4. Unknown Item 0",
            "1. Shurelya's Battlesong<br>2. Zhonya's Hourglass<br>3. Mejai's Soulstealer<br>4. Imperial Mandate",
            "1. Shurelya's Battlesong<br>2. Stopwatch<br>3. Mejai's Soulstealer<br>4. Imperial Mandate",
            "1. Shurelya's Battlesong<br>2. Zhonya's Hourglass<br>3. Dark Seal<br>4. Ionian Boots of Lucidity",
            "1. Shurelya's Battlesong<br>2. Broken Stopwatch<br>3. Imperial Mandate<br>4. Ionian Boots of Lucidity",
            "1. Imperial Mandate<br>2. Ionian Boots of Lucidity<br>3. Moonstone Renewer<br>4. Forbidden Idol",
            "1. Prowler's Claw<br>2. Duskblade of Draktharr<br>3. Mercury's Treads<br>4. Black Cleaver",
            "1. Spear of Shojin<br>2. Ionian Boots of Lucidity<br>3. Axiom Arc<br>4. Trinity Force",
            "1. Abyssal Mask<br>2. Gargoyle Stoneplate<br>3. Force of Nature<br>4. Evenshroud",
            "1. Aegis of the Legion<br>2. Sorcerer's Shoes<br>3. Sunfire Aegis<br>4. Kindlegem",
            "1. Evenshroud<br>2. Thornmail<br>3. Unknown Item 0<br>4. Sorcerer's Shoes",
            "1. Thornmail<br>2. Abyssal Mask<br>3. Aegis of the Legion<br>4. Evenshroud",
            "1. Mosstomper Seedling<br>2. Mercury's Treads<br>3. Control Ward<br>4. Sunfire Aegis",
            "1. Force of Nature<br>2. Evenshroud<br>3. Sunfire Aegis<br>4. Unknown Item 0",
            "1. Evenshroud<br>2. Randuin's Omen<br>3. Anathema's Chains<br>4. Dead Man's Plate",
            "1. Aegis of the Legion<br>2. Plated Steelcaps<br>3. Sunfire Aegis<br>4. Kindlegem",
            "1. Unknown Item 0<br>2. Bramble Vest<br>3. Evenshroud<br>4. Mercury's Treads",
            "1. Liandry's Anguish<br>2. Doran's Ring<br>3. Unknown Item 0<br>4. Sorcerer's Shoes"
           ],
           [
            "100.00% (1 wins, 0 losses)",
            "100.00% (1 wins, 0 losses)",
            "100.00% (1 wins, 0 losses)",
            "100.00% (1 wins, 0 losses)",
            "100.00% (1 wins, 0 losses)",
            "0.00% (0 wins, 1 losses)",
            "0.00% (0 wins, 1 losses)",
            "0.00% (0 wins, 1 losses)",
            "100.00% (1 wins, 0 losses)",
            "0.00% (0 wins, 1 losses)",
            "100.00% (1 wins, 0 losses)",
            "100.00% (1 wins, 0 losses)",
            "100.00% (1 wins, 0 losses)",
            "100.00% (1 wins, 0 losses)",
            "0.00% (0 wins, 1 losses)",
            "0.00% (0 wins, 1 losses)",
            "0.00% (0 wins, 1 losses)",
            "0.00% (0 wins, 1 losses)",
            "0.00% (0 wins, 1 losses)",
            "100.00% (1 wins, 0 losses)"
           ]
          ]
         },
         "header": {
          "align": "left",
          "fill": {
           "color": "#191A24"
          },
          "font": {
           "color": "#56C596"
          },
          "values": [
           "<b>Champion Name<b>",
           "<b>Item Build<b>",
           "<b>Result<b>"
          ]
         },
         "type": "table"
        }
       ],
       "layout": {
        "autosize": true,
        "height": 600,
        "margin": {
         "b": 0,
         "l": 0,
         "r": 0,
         "t": 0
        },
        "template": {
         "data": {
          "bar": [
           {
            "error_x": {
             "color": "#2a3f5f"
            },
            "error_y": {
             "color": "#2a3f5f"
            },
            "marker": {
             "line": {
              "color": "#E5ECF6",
              "width": 0.5
             },
             "pattern": {
              "fillmode": "overlay",
              "size": 10,
              "solidity": 0.2
             }
            },
            "type": "bar"
           }
          ],
          "barpolar": [
           {
            "marker": {
             "line": {
              "color": "#E5ECF6",
              "width": 0.5
             },
             "pattern": {
              "fillmode": "overlay",
              "size": 10,
              "solidity": 0.2
             }
            },
            "type": "barpolar"
           }
          ],
          "carpet": [
           {
            "aaxis": {
             "endlinecolor": "#2a3f5f",
             "gridcolor": "white",
             "linecolor": "white",
             "minorgridcolor": "white",
             "startlinecolor": "#2a3f5f"
            },
            "baxis": {
             "endlinecolor": "#2a3f5f",
             "gridcolor": "white",
             "linecolor": "white",
             "minorgridcolor": "white",
             "startlinecolor": "#2a3f5f"
            },
            "type": "carpet"
           }
          ],
          "choropleth": [
           {
            "colorbar": {
             "outlinewidth": 0,
             "ticks": ""
            },
            "type": "choropleth"
           }
          ],
          "contour": [
           {
            "colorbar": {
             "outlinewidth": 0,
             "ticks": ""
            },
            "colorscale": [
             [
              0,
              "#0d0887"
             ],
             [
              0.1111111111111111,
              "#46039f"
             ],
             [
              0.2222222222222222,
              "#7201a8"
             ],
             [
              0.3333333333333333,
              "#9c179e"
             ],
             [
              0.4444444444444444,
              "#bd3786"
             ],
             [
              0.5555555555555556,
              "#d8576b"
             ],
             [
              0.6666666666666666,
              "#ed7953"
             ],
             [
              0.7777777777777778,
              "#fb9f3a"
             ],
             [
              0.8888888888888888,
              "#fdca26"
             ],
             [
              1,
              "#f0f921"
             ]
            ],
            "type": "contour"
           }
          ],
          "contourcarpet": [
           {
            "colorbar": {
             "outlinewidth": 0,
             "ticks": ""
            },
            "type": "contourcarpet"
           }
          ],
          "heatmap": [
           {
            "colorbar": {
             "outlinewidth": 0,
             "ticks": ""
            },
            "colorscale": [
             [
              0,
              "#0d0887"
             ],
             [
              0.1111111111111111,
              "#46039f"
             ],
             [
              0.2222222222222222,
              "#7201a8"
             ],
             [
              0.3333333333333333,
              "#9c179e"
             ],
             [
              0.4444444444444444,
              "#bd3786"
             ],
             [
              0.5555555555555556,
              "#d8576b"
             ],
             [
              0.6666666666666666,
              "#ed7953"
             ],
             [
              0.7777777777777778,
              "#fb9f3a"
             ],
             [
              0.8888888888888888,
              "#fdca26"
             ],
             [
              1,
              "#f0f921"
             ]
            ],
            "type": "heatmap"
           }
          ],
          "heatmapgl": [
           {
            "colorbar": {
             "outlinewidth": 0,
             "ticks": ""
            },
            "colorscale": [
             [
              0,
              "#0d0887"
             ],
             [
              0.1111111111111111,
              "#46039f"
             ],
             [
              0.2222222222222222,
              "#7201a8"
             ],
             [
              0.3333333333333333,
              "#9c179e"
             ],
             [
              0.4444444444444444,
              "#bd3786"
             ],
             [
              0.5555555555555556,
              "#d8576b"
             ],
             [
              0.6666666666666666,
              "#ed7953"
             ],
             [
              0.7777777777777778,
              "#fb9f3a"
             ],
             [
              0.8888888888888888,
              "#fdca26"
             ],
             [
              1,
              "#f0f921"
             ]
            ],
            "type": "heatmapgl"
           }
          ],
          "histogram": [
           {
            "marker": {
             "pattern": {
              "fillmode": "overlay",
              "size": 10,
              "solidity": 0.2
             }
            },
            "type": "histogram"
           }
          ],
          "histogram2d": [
           {
            "colorbar": {
             "outlinewidth": 0,
             "ticks": ""
            },
            "colorscale": [
             [
              0,
              "#0d0887"
             ],
             [
              0.1111111111111111,
              "#46039f"
             ],
             [
              0.2222222222222222,
              "#7201a8"
             ],
             [
              0.3333333333333333,
              "#9c179e"
             ],
             [
              0.4444444444444444,
              "#bd3786"
             ],
             [
              0.5555555555555556,
              "#d8576b"
             ],
             [
              0.6666666666666666,
              "#ed7953"
             ],
             [
              0.7777777777777778,
              "#fb9f3a"
             ],
             [
              0.8888888888888888,
              "#fdca26"
             ],
             [
              1,
              "#f0f921"
             ]
            ],
            "type": "histogram2d"
           }
          ],
          "histogram2dcontour": [
           {
            "colorbar": {
             "outlinewidth": 0,
             "ticks": ""
            },
            "colorscale": [
             [
              0,
              "#0d0887"
             ],
             [
              0.1111111111111111,
              "#46039f"
             ],
             [
              0.2222222222222222,
              "#7201a8"
             ],
             [
              0.3333333333333333,
              "#9c179e"
             ],
             [
              0.4444444444444444,
              "#bd3786"
             ],
             [
              0.5555555555555556,
              "#d8576b"
             ],
             [
              0.6666666666666666,
              "#ed7953"
             ],
             [
              0.7777777777777778,
              "#fb9f3a"
             ],
             [
              0.8888888888888888,
              "#fdca26"
             ],
             [
              1,
              "#f0f921"
             ]
            ],
            "type": "histogram2dcontour"
           }
          ],
          "mesh3d": [
           {
            "colorbar": {
             "outlinewidth": 0,
             "ticks": ""
            },
            "type": "mesh3d"
           }
          ],
          "parcoords": [
           {
            "line": {
             "colorbar": {
              "outlinewidth": 0,
              "ticks": ""
             }
            },
            "type": "parcoords"
           }
          ],
          "pie": [
           {
            "automargin": true,
            "type": "pie"
           }
          ],
          "scatter": [
           {
            "fillpattern": {
             "fillmode": "overlay",
             "size": 10,
             "solidity": 0.2
            },
            "type": "scatter"
           }
          ],
          "scatter3d": [
           {
            "line": {
             "colorbar": {
              "outlinewidth": 0,
              "ticks": ""
             }
            },
            "marker": {
             "colorbar": {
              "outlinewidth": 0,
              "ticks": ""
             }
            },
            "type": "scatter3d"
           }
          ],
          "scattercarpet": [
           {
            "marker": {
             "colorbar": {
              "outlinewidth": 0,
              "ticks": ""
             }
            },
            "type": "scattercarpet"
           }
          ],
          "scattergeo": [
           {
            "marker": {
             "colorbar": {
              "outlinewidth": 0,
              "ticks": ""
             }
            },
            "type": "scattergeo"
           }
          ],
          "scattergl": [
           {
            "marker": {
             "colorbar": {
              "outlinewidth": 0,
              "ticks": ""
             }
            },
            "type": "scattergl"
           }
          ],
          "scattermapbox": [
           {
            "marker": {
             "colorbar": {
              "outlinewidth": 0,
              "ticks": ""
             }
            },
            "type": "scattermapbox"
           }
          ],
          "scatterpolar": [
           {
            "marker": {
             "colorbar": {
              "outlinewidth": 0,
              "ticks": ""
             }
            },
            "type": "scatterpolar"
           }
          ],
          "scatterpolargl": [
           {
            "marker": {
             "colorbar": {
              "outlinewidth": 0,
              "ticks": ""
             }
            },
            "type": "scatterpolargl"
           }
          ],
          "scatterternary": [
           {
            "marker": {
             "colorbar": {
              "outlinewidth": 0,
              "ticks": ""
             }
            },
            "type": "scatterternary"
           }
          ],
          "surface": [
           {
            "colorbar": {
             "outlinewidth": 0,
             "ticks": ""
            },
            "colorscale": [
             [
              0,
              "#0d0887"
             ],
             [
              0.1111111111111111,
              "#46039f"
             ],
             [
              0.2222222222222222,
              "#7201a8"
             ],
             [
              0.3333333333333333,
              "#9c179e"
             ],
             [
              0.4444444444444444,
              "#bd3786"
             ],
             [
              0.5555555555555556,
              "#d8576b"
             ],
             [
              0.6666666666666666,
              "#ed7953"
             ],
             [
              0.7777777777777778,
              "#fb9f3a"
             ],
             [
              0.8888888888888888,
              "#fdca26"
             ],
             [
              1,
              "#f0f921"
             ]
            ],
            "type": "surface"
           }
          ],
          "table": [
           {
            "cells": {
             "fill": {
              "color": "#EBF0F8"
             },
             "line": {
              "color": "white"
             }
            },
            "header": {
             "fill": {
              "color": "#C8D4E3"
             },
             "line": {
              "color": "white"
             }
            },
            "type": "table"
           }
          ]
         },
         "layout": {
          "annotationdefaults": {
           "arrowcolor": "#2a3f5f",
           "arrowhead": 0,
           "arrowwidth": 1
          },
          "autotypenumbers": "strict",
          "coloraxis": {
           "colorbar": {
            "outlinewidth": 0,
            "ticks": ""
           }
          },
          "colorscale": {
           "diverging": [
            [
             0,
             "#8e0152"
            ],
            [
             0.1,
             "#c51b7d"
            ],
            [
             0.2,
             "#de77ae"
            ],
            [
             0.3,
             "#f1b6da"
            ],
            [
             0.4,
             "#fde0ef"
            ],
            [
             0.5,
             "#f7f7f7"
            ],
            [
             0.6,
             "#e6f5d0"
            ],
            [
             0.7,
             "#b8e186"
            ],
            [
             0.8,
             "#7fbc41"
            ],
            [
             0.9,
             "#4d9221"
            ],
            [
             1,
             "#276419"
            ]
           ],
           "sequential": [
            [
             0,
             "#0d0887"
            ],
            [
             0.1111111111111111,
             "#46039f"
            ],
            [
             0.2222222222222222,
             "#7201a8"
            ],
            [
             0.3333333333333333,
             "#9c179e"
            ],
            [
             0.4444444444444444,
             "#bd3786"
            ],
            [
             0.5555555555555556,
             "#d8576b"
            ],
            [
             0.6666666666666666,
             "#ed7953"
            ],
            [
             0.7777777777777778,
             "#fb9f3a"
            ],
            [
             0.8888888888888888,
             "#fdca26"
            ],
            [
             1,
             "#f0f921"
            ]
           ],
           "sequentialminus": [
            [
             0,
             "#0d0887"
            ],
            [
             0.1111111111111111,
             "#46039f"
            ],
            [
             0.2222222222222222,
             "#7201a8"
            ],
            [
             0.3333333333333333,
             "#9c179e"
            ],
            [
             0.4444444444444444,
             "#bd3786"
            ],
            [
             0.5555555555555556,
             "#d8576b"
            ],
            [
             0.6666666666666666,
             "#ed7953"
            ],
            [
             0.7777777777777778,
             "#fb9f3a"
            ],
            [
             0.8888888888888888,
             "#fdca26"
            ],
            [
             1,
             "#f0f921"
            ]
           ]
          },
          "colorway": [
           "#636efa",
           "#EF553B",
           "#00cc96",
           "#ab63fa",
           "#FFA15A",
           "#19d3f3",
           "#FF6692",
           "#B6E880",
           "#FF97FF",
           "#FECB52"
          ],
          "font": {
           "color": "#2a3f5f"
          },
          "geo": {
           "bgcolor": "white",
           "lakecolor": "white",
           "landcolor": "#E5ECF6",
           "showlakes": true,
           "showland": true,
           "subunitcolor": "white"
          },
          "hoverlabel": {
           "align": "left"
          },
          "hovermode": "closest",
          "mapbox": {
           "style": "light"
          },
          "paper_bgcolor": "white",
          "plot_bgcolor": "#E5ECF6",
          "polar": {
           "angularaxis": {
            "gridcolor": "white",
            "linecolor": "white",
            "ticks": ""
           },
           "bgcolor": "#E5ECF6",
           "radialaxis": {
            "gridcolor": "white",
            "linecolor": "white",
            "ticks": ""
           }
          },
          "scene": {
           "xaxis": {
            "backgroundcolor": "#E5ECF6",
            "gridcolor": "white",
            "gridwidth": 2,
            "linecolor": "white",
            "showbackground": true,
            "ticks": "",
            "zerolinecolor": "white"
           },
           "yaxis": {
            "backgroundcolor": "#E5ECF6",
            "gridcolor": "white",
            "gridwidth": 2,
            "linecolor": "white",
            "showbackground": true,
            "ticks": "",
            "zerolinecolor": "white"
           },
           "zaxis": {
            "backgroundcolor": "#E5ECF6",
            "gridcolor": "white",
            "gridwidth": 2,
            "linecolor": "white",
            "showbackground": true,
            "ticks": "",
            "zerolinecolor": "white"
           }
          },
          "shapedefaults": {
           "line": {
            "color": "#2a3f5f"
           }
          },
          "ternary": {
           "aaxis": {
            "gridcolor": "white",
            "linecolor": "white",
            "ticks": ""
           },
           "baxis": {
            "gridcolor": "white",
            "linecolor": "white",
            "ticks": ""
           },
           "bgcolor": "#E5ECF6",
           "caxis": {
            "gridcolor": "white",
            "linecolor": "white",
            "ticks": ""
           }
          },
          "title": {
           "x": 0.05
          },
          "xaxis": {
           "automargin": true,
           "gridcolor": "white",
           "linecolor": "white",
           "ticks": "",
           "title": {
            "standoff": 15
           },
           "zerolinecolor": "white",
           "zerolinewidth": 2
          },
          "yaxis": {
           "automargin": true,
           "gridcolor": "white",
           "linecolor": "white",
           "ticks": "",
           "title": {
            "standoff": 15
           },
           "zerolinecolor": "white",
           "zerolinewidth": 2
          }
         }
        }
       }
      }
     },
     "metadata": {},
     "output_type": "display_data"
    }
   ],
   "source": [
    "create_table_visual(matches, summoner_data['puuid'])"
   ]
  }
 ],
 "metadata": {
  "kernelspec": {
   "display_name": "venv",
   "language": "python",
   "name": "python3"
  },
  "language_info": {
   "codemirror_mode": {
    "name": "ipython",
    "version": 3
   },
   "file_extension": ".py",
   "mimetype": "text/x-python",
   "name": "python",
   "nbconvert_exporter": "python",
   "pygments_lexer": "ipython3",
   "version": "3.11.7"
  }
 },
 "nbformat": 4,
 "nbformat_minor": 2
}
