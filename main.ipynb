{
 "cells": [
  {
   "cell_type": "code",
   "execution_count": 1,
   "metadata": {},
   "outputs": [
    {
     "name": "stdout",
     "output_type": "stream",
     "text": [
      "Error: 403, {\"status\":{\"message\":\"Forbidden\",\"status_code\":403}}\n"
     ]
    }
   ],
   "source": [
    "from lol_data import get_summoner_lol_data\n",
    "from tft_data import get_summoner_tft_data\n",
    "from val_data import get_summoner_val_data\n",
    "from config import API_KEY\n",
    "\n",
    "game_name = input(\"Enter Game Name (lol, tft, valorant): \").lower()\n",
    "summoner_name = input(\"Enter Summoner Name: \")\n",
    "region = input(\"Enter Region (e.g., na1, euw1): \")\n",
    "\n",
    "if game_name == 'lol':\n",
    "    summoner_data = get_summoner_lol_data(API_KEY, summoner_name, region)\n",
    "    if summoner_data:\n",
    "        print(f\"Summoner name: {summoner_data['name']}\")\n",
    "        print(f\"Summoner Level: {summoner_data['summonerLevel']}\")\n",
    "        # Add more fields as needed\n",
    "elif game_name == 'tft':\n",
    "    summoner_data = get_summoner_tft_data(API_KEY, summoner_name, region)\n",
    "    if summoner_data:\n",
    "        print(f\"TFT Summoner name: {summoner_data['name']}\")\n",
    "        # Add more fields as needed\n",
    "elif game_name == 'valorant':\n",
    "    summoner_data = get_summoner_val_data(API_KEY, summoner_name, region)\n",
    "    if summoner_data:\n",
    "        print(f\"Valorant Summoner name: {summoner_data['name']}\")\n",
    "        # Add more fields as needed\n",
    "else:\n",
    "    print(\"Unknown game input. Please enter 'lol', 'tft', or 'valorant'.\")\n"
   ]
  }
 ],
 "metadata": {
  "kernelspec": {
   "display_name": "venv",
   "language": "python",
   "name": "python3"
  },
  "language_info": {
   "codemirror_mode": {
    "name": "ipython",
    "version": 3
   },
   "file_extension": ".py",
   "mimetype": "text/x-python",
   "name": "python",
   "nbconvert_exporter": "python",
   "pygments_lexer": "ipython3",
   "version": "3.11.7"
  }
 },
 "nbformat": 4,
 "nbformat_minor": 2
}
